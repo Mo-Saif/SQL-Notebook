{
 "cells": [
  {
   "cell_type": "markdown",
   "metadata": {},
   "source": [
    "<h1 style=\"text-align:center; LINE-HEIGHT:35px\">Advanced SQL Queries on the Australian Open <br>Tennis Tournament Database</h1>\n",
    "<hr>\n",
    "## Introduction\n",
    "In this notebook, we will write some advanced SQL queries to obtain some data from the Australian Open Tennis Tournament Database*. We will first provide the background required to understand how the database is structured and then start with the queries.\n",
    "## Background Information\n",
    "### TOURNAMENT RULES\n",
    "#### GAME\n",
    "A game consists of a sequence of points played with the same player serving. The\n",
    "running score of each game is described in a manner peculiar to tennis: scores from zero\n",
    "to three points are described as \"0\", \"15\", \"30\", and \"40\", respectively. A game is won by\n",
    "the first player to have won at least four points in total and at least two points more than\n",
    "the opponent. If at least three points have been scored by each player, making the\n",
    "player's scores equal at forty apiece, the score is not called out as \"forty-forty\", but\n",
    "rather as \"deuce\". If at least three points have been scored by each side and a player has\n",
    "one more point than his opponent, the score of the game is \"advantage\" for the player in\n",
    "the lead. If the same player also wins the next point, that player wins the “Game”; if the\n",
    "opposing player wins the next point, the score is again “Deuce”. A player needs to win\n",
    "two consecutive points immediately after “Deuce” to win the “Game”.\n",
    "#### SET\n",
    "A set consists of a sequence of games played with service alternating between games,\n",
    "ending when the count of games won meets certain criteria. Typically, a player wins a\n",
    "set by winning at least six games and at least two games more than the opponent. If one\n",
    "player has won six games and the opponent five, an additional game is played. If the\n",
    "leading player wins that game, the player wins the set 7–5. If the trailing player wins the\n",
    "game, the set score becomes 6-6 and a tie-break is played. A tie-break allows one player\n",
    "to win one more game and thus the set, to give a final set score of 7–6.\n",
    "#### MATCH \n",
    "A match consists of a sequence of 3 sets for women. The outcome is determined through a best of three sets system. In other words, if a player wins 2 sets, she wins the match.\n",
    "### Relational Database\n",
    "The [database file](https://github.com/Mo-Saif/SQL-Notebook/blob/master/AusOpen.db?raw=true) used in this notebook is made with SQLite and it has the following design:\n",
    "\n",
    "<img src=\"https://raw.githubusercontent.com/Mo-Saif/SQL-Notebook/master/tables_and_relationships.png\" alt=\"Tables\" width=\"800\">\n",
    "### Queries"
   ]
  },
  {
   "cell_type": "code",
   "execution_count": 1,
   "metadata": {
    "ExecuteTime": {
     "end_time": "2018-11-27T17:41:45.899996Z",
     "start_time": "2018-11-27T17:41:45.362284Z"
    }
   },
   "outputs": [],
   "source": [
    "import sqlite3\n",
    "import pandas as pd\n",
    "\n",
    "conn = sqlite3.connect('AusOpen.db')\n",
    "c = conn.cursor()"
   ]
  },
  {
   "cell_type": "markdown",
   "metadata": {},
   "source": [
    "#### Query 1\n",
    "Write a query that shows the player having the highest number of sets won through tiebreaks, i.e. Tiebreak Queen of the tournament. The query should show the license no, name, surname of the Tiebreak Queen and the number of tiebreaks she won in the tournament."
   ]
  },
  {
   "cell_type": "code",
   "execution_count": 2,
   "metadata": {
    "ExecuteTime": {
     "end_time": "2018-11-27T17:41:45.914990Z",
     "start_time": "2018-11-27T17:41:45.901999Z"
    }
   },
   "outputs": [
    {
     "data": {
      "text/plain": [
       "[(1120308, 'Angelique', 'Kerber', 3)]"
      ]
     },
     "execution_count": 2,
     "metadata": {},
     "output_type": "execute_result"
    }
   ],
   "source": [
    "# Q1\n",
    "c.execute('''\n",
    "SELECT sets.winner_licence_no, player.name, player.surname, COUNT(sets.tiebreak) AS CountOfTiebreak\n",
    "FROM player INNER JOIN sets ON player.player_licence_no = sets.winner_licence_no\n",
    "GROUP BY sets.winner_licence_no, player.name, player.surname, sets.tiebreak\n",
    "HAVING ((sets.tiebreak)='YES')\n",
    "ORDER BY Count(sets.tiebreak) DESC\n",
    "LIMIT 1;\n",
    "''')\n",
    "c.fetchall()"
   ]
  },
  {
   "cell_type": "markdown",
   "metadata": {},
   "source": [
    "#### Query 2\n",
    "Write a query that shows the number of players attending the tournament in 2017 from a given country. The country code will be entered by the user."
   ]
  },
  {
   "cell_type": "code",
   "execution_count": 3,
   "metadata": {
    "ExecuteTime": {
     "end_time": "2018-11-27T17:41:45.995088Z",
     "start_time": "2018-11-27T17:41:45.916989Z"
    }
   },
   "outputs": [
    {
     "data": {
      "text/plain": [
       "[('Germany', 11)]"
      ]
     },
     "execution_count": 3,
     "metadata": {},
     "output_type": "execute_result"
    }
   ],
   "source": [
    "# Q2\n",
    "cc = ['DE']\n",
    "c.execute('''\n",
    "SELECT country.country_name, COUNT(player.player_licence_no) AS [countofplayer licence no]\n",
    "FROM country INNER JOIN player ON country.country_code = player.nationality\n",
    "GROUP BY country.country_name, country.country_code\n",
    "HAVING country.country_code= ?;\n",
    "''',cc)\n",
    "c.fetchall()"
   ]
  },
  {
   "cell_type": "markdown",
   "metadata": {},
   "source": [
    "#### Query 3\n",
    "Most matches in the tournament are played between two different country’s players.\n",
    "We are interested in obtaining a statistic that shows for a given\n",
    "country pair, the percentage of the matches won by the players from a specific country\n",
    "available on the tournament’s website.\n",
    "The codes of the countries in the country pair and the country code that\n",
    "the percentage of winning is desired to be seen will be entered by the user. (i.e. user will\n",
    "enter the country codes of the country pair respectively, then enter the country code that\n",
    "he/she wants to see the percentage of winning)"
   ]
  },
  {
   "cell_type": "code",
   "execution_count": 4,
   "metadata": {
    "ExecuteTime": {
     "end_time": "2018-11-27T17:41:46.057274Z",
     "start_time": "2018-11-27T17:41:45.997087Z"
    }
   },
   "outputs": [
    {
     "data": {
      "text/plain": [
       "[('DE', 'US', 'DE', 0.6666666666666666)]"
      ]
     },
     "execution_count": 4,
     "metadata": {},
     "output_type": "execute_result"
    }
   ],
   "source": [
    "# Q3\n",
    "c1='DE' # country 1 code\n",
    "c2='US' # country 2 code\n",
    "sc='DE' # selected country\n",
    "c.execute('''\n",
    "SELECT ? AS [country 1], ? AS [country 2], ? AS [selected country], (sub3.count*1.0/(sub1.count+sub2.count)) AS percentage\n",
    "FROM (SELECT COUNT(*) AS count \n",
    "      FROM (SELECT winner.nationality, loser.nationality \n",
    "            FROM match, player AS winner, player AS loser \n",
    "            WHERE match.winner_licence_no = winner.player_licence_no AND match.loser_licence_no = loser.player_licence_no \n",
    "                AND winner.nationality = ? AND loser.nationality = ?)  ) AS sub1,\n",
    "     (SELECT COUNT(*) AS count \n",
    "      FROM (SELECT winner.nationality, loser.nationality \n",
    "            FROM match, player AS winner, player AS loser \n",
    "            WHERE match.winner_licence_no = winner.player_licence_no AND match.loser_licence_no = loser.player_licence_no \n",
    "                AND winner.nationality = ? AND loser.nationality = ?) ) AS sub2,\n",
    "     (SELECT COUNT(*) AS count \n",
    "      FROM (SELECT winner.nationality, loser.nationality \n",
    "            FROM match, player AS winner, player AS loser \n",
    "            WHERE match.winner_licence_no = winner.player_licence_no \n",
    "                AND match.loser_licence_no = loser.player_licence_no AND winner.nationality = ? \n",
    "                AND loser.nationality = (SELECT country_code FROM country \n",
    "                                         WHERE country_code  <> ? AND country_code IN (?,?))) ) AS sub3;\n",
    "''',(c1, c2, sc, c1, c2, c2, c1, sc, sc, c1, c2))\n",
    "c.fetchall()"
   ]
  },
  {
   "cell_type": "markdown",
   "metadata": {},
   "source": [
    "#### Query 4\n",
    "Let's investigate whether there is a relation\n",
    "between the age of the players who played in the tournament and corresponding win\n",
    "rates. Create a query that shows the win rate of the players over a given age.\n",
    "Age will be entered by the user."
   ]
  },
  {
   "cell_type": "code",
   "execution_count": 5,
   "metadata": {
    "ExecuteTime": {
     "end_time": "2018-11-27T17:41:46.105351Z",
     "start_time": "2018-11-27T17:41:46.059270Z"
    }
   },
   "outputs": [
    {
     "data": {
      "text/plain": [
       "[(0.5043103448275862,)]"
      ]
     },
     "execution_count": 5,
     "metadata": {},
     "output_type": "execute_result"
    }
   ],
   "source": [
    "# Q4\n",
    "age=22\n",
    "c.execute('''\n",
    "SELECT (t1.counter*1.0/(t2.counter+t3.counter)) AS winrate\n",
    "FROM (SELECT COUNT(*) AS counter \n",
    "      FROM match, player AS winner \n",
    "      WHERE match.winner_licence_no = winner.player_licence_no \n",
    "          AND winner.year_of_birth <= 2017- ?)  AS t1, \n",
    "     (SELECT COUNT(*) AS counter \n",
    "      FROM match, player AS winner, player AS loser \n",
    "      WHERE match.winner_licence_no = winner.player_licence_no \n",
    "          AND match.loser_licence_no = loser.player_licence_no \n",
    "          AND (winner.year_of_birth <= 2017-? OR loser.year_of_birth <= 2017 - ?))  AS t2,\n",
    "     (SELECT COUNT(*) AS counter \n",
    "      FROM match, player AS winner, player AS loser \n",
    "      WHERE match.winner_licence_no = winner.player_licence_no \n",
    "          AND match.loser_licence_no = loser.player_licence_no \n",
    "          AND (winner.year_of_birth <= 2017-? AND loser.year_of_birth <= 2017 - ?))  AS t3;\n",
    "''', (age, age, age, age, age))\n",
    "c.fetchall()"
   ]
  },
  {
   "cell_type": "markdown",
   "metadata": {},
   "source": [
    "#### Query 5\n",
    "Create a query that returns the name-surname of the player in a single field and the\n",
    "percentage of advantages turned into a game.\n",
    "The user should be able to search for the part of the name or surname of the player."
   ]
  },
  {
   "cell_type": "code",
   "execution_count": 6,
   "metadata": {
    "ExecuteTime": {
     "end_time": "2018-11-27T17:41:46.259048Z",
     "start_time": "2018-11-27T17:41:46.106349Z"
    }
   },
   "outputs": [
    {
     "data": {
      "text/plain": [
       "[('Denisa Allertova', 0.17204301075268819)]"
      ]
     },
     "execution_count": 6,
     "metadata": {},
     "output_type": "execute_result"
    }
   ],
   "source": [
    "# Q5\n",
    "name = ['denisa']\n",
    "c.execute('''\n",
    "SELECT (name || ' ' || surname) AS fullname, (t1.count*1.0/(t2.loseradv + t3.winneradv)) AS percentage\n",
    "FROM player, \n",
    "    (SELECT COUNT(*) AS count, player.player_licence_no AS pln \n",
    "     FROM game, player \n",
    "     WHERE game.winner_licence_no = player.player_licence_no \n",
    "         AND advantages_of_winner > 0 GROUP BY player_licence_no) AS t1, \n",
    "    (SELECT player_licence_no AS pln2, SUM(advantages_of_loser) AS loseradv\n",
    "     FROM game, match, player\n",
    "     WHERE game.match_id = match.match_id AND player_licence_no <> game.winner_licence_no \n",
    "         AND (player_licence_no = match.winner_licence_no OR player_licence_no = match.loser_licence_no)\n",
    "     GROUP BY player_licence_no)  AS t2, \n",
    "    (SELECT game.winner_licence_no AS pln3, SUM(game.advantages_of_winner) AS winneradv\n",
    "     FROM game\n",
    "     GROUP BY game.winner_licence_no)  AS t3\n",
    "     WHERE (((name || ' ' || surname) LIKE \"%\" || ? || \"%\")) AND player.player_licence_no = t1.pln \n",
    "         AND player.player_licence_no = t2.pln2 AND player.player_licence_no = t3.pln3;\n",
    "''', (name))\n",
    "c.fetchall()"
   ]
  },
  {
   "cell_type": "code",
   "execution_count": 7,
   "metadata": {
    "ExecuteTime": {
     "end_time": "2018-11-27T17:41:46.263058Z",
     "start_time": "2018-11-27T17:41:46.261047Z"
    }
   },
   "outputs": [],
   "source": [
    "c.close()\n",
    "conn.close()"
   ]
  },
  {
   "cell_type": "markdown",
   "metadata": {},
   "source": [
    "\n",
    "\\*Data Source: Middle East Technical University, Industrial Engineering Department, IE304 Management Information Systems Term Project"
   ]
  }
 ],
 "metadata": {
  "hide_input": false,
  "kernelspec": {
   "display_name": "Python 3",
   "language": "python",
   "name": "python3"
  },
  "language_info": {
   "codemirror_mode": {
    "name": "ipython",
    "version": 3
   },
   "file_extension": ".py",
   "mimetype": "text/x-python",
   "name": "python",
   "nbconvert_exporter": "python",
   "pygments_lexer": "ipython3",
   "version": "3.6.5"
  },
  "toc": {
   "base_numbering": 1,
   "nav_menu": {},
   "number_sections": false,
   "sideBar": true,
   "skip_h1_title": true,
   "title_cell": "Table of Contents",
   "title_sidebar": "Contents",
   "toc_cell": false,
   "toc_position": {},
   "toc_section_display": true,
   "toc_window_display": false
  },
  "varInspector": {
   "cols": {
    "lenName": 16,
    "lenType": 16,
    "lenVar": 40
   },
   "kernels_config": {
    "python": {
     "delete_cmd_postfix": "",
     "delete_cmd_prefix": "del ",
     "library": "var_list.py",
     "varRefreshCmd": "print(var_dic_list())"
    },
    "r": {
     "delete_cmd_postfix": ") ",
     "delete_cmd_prefix": "rm(",
     "library": "var_list.r",
     "varRefreshCmd": "cat(var_dic_list()) "
    }
   },
   "types_to_exclude": [
    "module",
    "function",
    "builtin_function_or_method",
    "instance",
    "_Feature"
   ],
   "window_display": false
  }
 },
 "nbformat": 4,
 "nbformat_minor": 2
}
